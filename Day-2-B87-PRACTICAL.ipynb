{
 "cells": [
  {
   "cell_type": "code",
   "execution_count": 3,
   "id": "779a73b8-c9ce-4129-bea0-4ce2f2dafbf1",
   "metadata": {},
   "outputs": [],
   "source": [
    "x = 10\n",
    "y = 20"
   ]
  },
  {
   "cell_type": "code",
   "execution_count": 5,
   "id": "cacaa583-f58d-462c-85c2-e2773c401ad2",
   "metadata": {},
   "outputs": [
    {
     "name": "stdout",
     "output_type": "stream",
     "text": [
      "30\n"
     ]
    }
   ],
   "source": [
    "z = x + y\n",
    "print(z)"
   ]
  },
  {
   "cell_type": "code",
   "execution_count": null,
   "id": "6370275f-c7fc-4253-94df-19d64475b2df",
   "metadata": {},
   "outputs": [],
   "source": []
  },
  {
   "cell_type": "code",
   "execution_count": null,
   "id": "83d78806-f380-4e67-95ad-6d695a1116c5",
   "metadata": {},
   "outputs": [],
   "source": [
    "Introduction to datatype in python:"
   ]
  },
  {
   "cell_type": "code",
   "execution_count": null,
   "id": "d1ff1c16-b357-4a11-be27-802b30953779",
   "metadata": {},
   "outputs": [],
   "source": [
    "1) String ---str\n",
    "2)Numbers----INT ,FLOAT,\n",
    "3)lIST-----LIST\n",
    "4)TUPLE-----Tuple\n",
    "5)DICTINARY-----Dict\n",
    "\n"
   ]
  },
  {
   "cell_type": "code",
   "execution_count": null,
   "id": "22a4907b-8207-413c-8f1f-c7bce048b586",
   "metadata": {},
   "outputs": [],
   "source": [
    "Note:python is case sensative programing lang"
   ]
  },
  {
   "cell_type": "code",
   "execution_count": null,
   "id": "98ec0790-ba56-4022-880f-28d6f27c2614",
   "metadata": {},
   "outputs": [],
   "source": [
    "Classification of datatypes in python :"
   ]
  },
  {
   "cell_type": "code",
   "execution_count": 8,
   "id": "476186a5-e5b2-40fa-8175-e0443f5b91c3",
   "metadata": {},
   "outputs": [
    {
     "name": "stdin",
     "output_type": "stream",
     "text": [
      "Enter your name:  python new user\n"
     ]
    },
    {
     "name": "stdout",
     "output_type": "stream",
     "text": [
      "Python New User\n"
     ]
    }
   ],
   "source": [
    "user_name = input(\"Enter your name: \")\n",
    "\n",
    "print(user_name.title())"
   ]
  },
  {
   "cell_type": "code",
   "execution_count": 9,
   "id": "87df4bd2-f8c4-4aeb-9d48-ff7f7a1878d8",
   "metadata": {},
   "outputs": [
    {
     "name": "stdin",
     "output_type": "stream",
     "text": [
      "Enter your name:  python new user\n"
     ]
    },
    {
     "name": "stdout",
     "output_type": "stream",
     "text": [
      "PYTHON NEW USER\n"
     ]
    }
   ],
   "source": [
    "user_name = input(\"Enter your name: \")\n",
    "\n",
    "print(user_name.upper())"
   ]
  },
  {
   "cell_type": "code",
   "execution_count": null,
   "id": "f52c31e8-f3f0-4db8-8fa7-0c0ab48f183e",
   "metadata": {},
   "outputs": [],
   "source": []
  }
 ],
 "metadata": {
  "kernelspec": {
   "display_name": "Python 3 (ipykernel)",
   "language": "python",
   "name": "python3"
  },
  "language_info": {
   "codemirror_mode": {
    "name": "ipython",
    "version": 3
   },
   "file_extension": ".py",
   "mimetype": "text/x-python",
   "name": "python",
   "nbconvert_exporter": "python",
   "pygments_lexer": "ipython3",
   "version": "3.13.5"
  }
 },
 "nbformat": 4,
 "nbformat_minor": 5
}
